{
 "cells": [
  {
   "cell_type": "code",
   "execution_count": 33,
   "metadata": {},
   "outputs": [],
   "source": [
    "import time  # 导入时间库\n",
    "import numpy as np  # 导入numpy库\n",
    "import pandas as pd  # 导入pandas库\n",
    "import MySQLdb  # 导入mysql连接库"
   ]
  },
  {
   "cell_type": "code",
   "execution_count": 4,
   "metadata": {},
   "outputs": [],
   "source": [
    "# 读取数据\n",
    "dtypes = {'ORDERDATE': object, 'ORDERID': object, 'AMOUNTINFO': np.float32}  # 设置每列数据类型\n",
    "raw_data = pd.read_csv('sales.csv', dtype=dtypes, index_col='USERID')  # 读取数据文件"
   ]
  },
  {
   "cell_type": "code",
   "execution_count": 7,
   "metadata": {},
   "outputs": [
    {
     "name": "stdout",
     "output_type": "stream",
     "text": [
      "Data Overview:\n",
      "         ORDERDATE     ORDERID  AMOUNTINFO\n",
      "USERID                                    \n",
      "142074  2016-01-01  4196439032      9399.0\n",
      "56927   2016-01-01  4198324983      8799.0\n",
      "87058   2016-01-01  4191287379      6899.0\n",
      "136104  2016-01-01  4198508313      5999.0\n",
      "------------------------------\n",
      "Data DESC:\n",
      "         AMOUNTINFO\n",
      "count  86127.000000\n",
      "mean     744.762939\n",
      "std     1425.194336\n",
      "min        0.500000\n",
      "25%       13.000000\n",
      "50%       59.000000\n",
      "75%      629.000000\n",
      "max    30999.000000\n",
      "------------------------------------------------------------\n"
     ]
    }
   ],
   "source": [
    "# 数据审查和校验\n",
    "# 数据概览\n",
    "print ('Data Overview:')\n",
    "print (raw_data.head(4))  # 打印原始数据前4条\n",
    "print ('-' * 30)\n",
    "print ('Data DESC:')\n",
    "print (raw_data.describe())  # 打印原始数据基本描述性信息\n",
    "print ('-' * 60)"
   ]
  },
  {
   "cell_type": "code",
   "execution_count": 8,
   "metadata": {},
   "outputs": [
    {
     "name": "stdout",
     "output_type": "stream",
     "text": [
      "NA Cols:\n",
      "ORDERDATE      True\n",
      "ORDERID       False\n",
      "AMOUNTINFO     True\n",
      "dtype: bool\n",
      "------------------------------\n",
      "NA Recors:\n",
      "Total number of NA lines is: 10\n",
      "         ORDERDATE     ORDERID  AMOUNTINFO\n",
      "USERID                                    \n",
      "75849   2016-01-01  4197103430         NaN\n",
      "103714         NaN  4136159682       189.0\n",
      "155209  2016-01-01  4177940815         NaN\n",
      "139877         NaN  4111956196         6.3\n",
      "54599   2016-01-01  4119525205         NaN\n",
      "65456   2016-01-02  4195643356         NaN\n",
      "122134  2016-09-21  3826649773         NaN\n",
      "116995  2016-10-24  3981569421         NaN\n",
      "98888   2016-12-06  3814398698         NaN\n",
      "145951  2016-12-29  4139830098         NaN\n",
      "------------------------------------------------------------\n"
     ]
    }
   ],
   "source": [
    "# 缺失值审查\n",
    "na_cols = raw_data.isnull().any(axis=0)  # 查看每一列是否具有缺失值\n",
    "print ('NA Cols:')\n",
    "print (na_cols)  # 查看具有缺失值的列\n",
    "print ('-' * 30)\n",
    "na_lines = raw_data.isnull().any(axis=1)  # 查看每一行是否具有缺失值\n",
    "print ('NA Recors:')\n",
    "print ('Total number of NA lines is: {0}'.format(na_lines.sum()))  # 查看具有缺失值的行总记录数\n",
    "print (raw_data[na_lines])  # 只查看具有缺失值的行信息\n",
    "print ('-' * 60)"
   ]
  },
  {
   "cell_type": "code",
   "execution_count": 9,
   "metadata": {},
   "outputs": [],
   "source": [
    "# 数据异常、格式转换和处理\n",
    "# 异常值处理\n",
    "sales_data = raw_data.dropna()  # 丢弃带有缺失值的行记录\n",
    "sales_data = sales_data[sales_data['AMOUNTINFO'] > 1]  # 丢弃订单金额<=1的记录\n"
   ]
  },
  {
   "cell_type": "code",
   "execution_count": 12,
   "metadata": {},
   "outputs": [
    {
     "name": "stdout",
     "output_type": "stream",
     "text": [
      "Raw Dtypes:\n",
      "ORDERDATE     datetime64[ns]\n",
      "ORDERID               object\n",
      "AMOUNTINFO           float32\n",
      "dtype: object\n",
      "------------------------------------------------------------\n"
     ]
    }
   ],
   "source": [
    "# 日期格式转换\n",
    "sales_data['ORDERDATE'] = pd.to_datetime(sales_data['ORDERDATE'], format='%Y-%m-%d')  # 将字符串转换为日期格式\n",
    "print ('Raw Dtypes:')\n",
    "print (sales_data.dtypes)  # 打印输出数据框所有列的数据类型\n",
    "print ('-' * 60)\n"
   ]
  },
  {
   "cell_type": "code",
   "execution_count": 13,
   "metadata": {},
   "outputs": [],
   "source": [
    "# 数据转换\n",
    "recency_value = sales_data['ORDERDATE'].groupby(sales_data.index).max()  # 计算原始最近一次订单时间\n",
    "frequency_value = sales_data['ORDERDATE'].groupby(sales_data.index).count()  # 计算原始订单频率\n",
    "monetary_value = sales_data['AMOUNTINFO'].groupby(sales_data.index).sum()  # 计算原始订单总金额\n"
   ]
  },
  {
   "cell_type": "code",
   "execution_count": 16,
   "metadata": {},
   "outputs": [],
   "source": [
    "# 计算RFM得分\n",
    "# 分别计算R、F、M得分\n",
    "deadline_date = pd.datetime(2017,1,1)  # 指定一个时间节点，用于计算其他时间与该时间的距离\n",
    "r_interval = (deadline_date - recency_value).dt.days  # 计算R间隔\n",
    "r_score = pd.cut(r_interval, 5, labels=[5, 4, 3, 2, 1])  # 计算R得分\n",
    "f_score = pd.cut(frequency_value, 5, labels=[1, 2, 3, 4, 5])  # 计算F得分\n",
    "m_score = pd.cut(monetary_value, 5, labels=[1, 2, 3, 4, 5])  # 计算M得分"
   ]
  },
  {
   "cell_type": "code",
   "execution_count": 19,
   "metadata": {},
   "outputs": [],
   "source": [
    "# R、F、M数据合并\n",
    "rfm_list = [r_score, f_score, m_score]  # 将r、f、m三个维度组成列表\n",
    "rfm_cols = ['r_score', 'f_score', 'm_score']  # 设置r、f、m三个维度列名\n",
    "rfm_pd = pd.DataFrame(np.array(rfm_list).transpose(), dtype=np.int32, columns=rfm_cols,\n",
    "                      index=frequency_value.index)  # 建立r、f、m数据框"
   ]
  },
  {
   "cell_type": "code",
   "execution_count": 21,
   "metadata": {},
   "outputs": [
    {
     "name": "stdout",
     "output_type": "stream",
     "text": [
      "RFM Score Overview:\n",
      "        r_score  f_score  m_score\n",
      "USERID                           \n",
      "51220         4        1        1\n",
      "51221         2        1        1\n",
      "51224         3        1        1\n",
      "51225         4        1        1\n",
      "------------------------------------------------------------\n"
     ]
    }
   ],
   "source": [
    "print ('RFM Score Overview:')\n",
    "print (rfm_pd.head(4))\n",
    "print ('-' * 60)"
   ]
  },
  {
   "cell_type": "code",
   "execution_count": 22,
   "metadata": {},
   "outputs": [],
   "source": [
    "# 计算RFM总得分\n",
    "# 方法一：加权得分\n",
    "rfm_pd['rfm_wscore'] = rfm_pd['r_score'] * 0.6 + rfm_pd['f_score'] * 0.3 + rfm_pd['m_score'] * 0.1"
   ]
  },
  {
   "cell_type": "code",
   "execution_count": 27,
   "metadata": {},
   "outputs": [],
   "source": [
    "# 方法二：RFM组合\n",
    "rfm_pd_tmp = rfm_pd.copy()\n",
    "rfm_pd_tmp['r_score'] = rfm_pd_tmp['r_score'].astype(str)\n",
    "rfm_pd_tmp['f_score'] = rfm_pd_tmp['f_score'].astype(str)\n",
    "rfm_pd_tmp['m_score'] = rfm_pd_tmp['m_score'].astype(str)\n",
    "rfm_pd['rfm_comb'] = rfm_pd_tmp['r_score'].str.cat(rfm_pd_tmp['f_score']).str.cat(rfm_pd_tmp['m_score'])\n"
   ]
  },
  {
   "cell_type": "code",
   "execution_count": 28,
   "metadata": {},
   "outputs": [
    {
     "name": "stdout",
     "output_type": "stream",
     "text": [
      "Final RFM Scores Overview:\n",
      "        r_score  f_score  m_score  rfm_wscore rfm_comb\n",
      "USERID                                                \n",
      "51220         4        1        1         2.8      411\n",
      "51221         2        1        1         1.6      211\n",
      "51224         3        1        1         2.2      311\n",
      "51225         4        1        1         2.8      411\n",
      "------------------------------\n",
      "Final RFM Scores DESC:\n",
      "            r_score       f_score       m_score    rfm_wscore\n",
      "count  59676.000000  59676.000000  59676.000000  59676.000000\n",
      "mean       3.299970      1.013439      1.000134      2.384027\n",
      "std        1.402166      0.116017      0.018307      0.845380\n",
      "min        1.000000      1.000000      1.000000      1.000000\n",
      "25%        2.000000      1.000000      1.000000      1.600000\n",
      "50%        3.000000      1.000000      1.000000      2.200000\n",
      "75%        5.000000      1.000000      1.000000      3.400000\n",
      "max        5.000000      5.000000      5.000000      5.000000\n"
     ]
    }
   ],
   "source": [
    "# 打印输出和保存结果\n",
    "# 打印结果\n",
    "print ('Final RFM Scores Overview:')\n",
    "print (rfm_pd.head(4))  # 打印数据前4项结果\n",
    "print ('-' * 30)\n",
    "print ('Final RFM Scores DESC:')\n",
    "print (rfm_pd.describe())"
   ]
  },
  {
   "cell_type": "code",
   "execution_count": 29,
   "metadata": {},
   "outputs": [],
   "source": [
    "# 保存RFM得分到本地文件\n",
    "rfm_pd.to_csv('sales_rfm_score.csv')  # 保存数据为csv"
   ]
  },
  {
   "cell_type": "code",
   "execution_count": 37,
   "metadata": {},
   "outputs": [],
   "source": [
    "# 保存RFM得分到MySQL数据库\n",
    "# 设置要写库的数据库连接信息\n",
    "table_name = 'sales_rfm_score'  # 要写库的表名\n",
    "# 数据库基本信息\n",
    "config = {'host': 'localhost',  # 默认127.0.0.1\n",
    "          'user': 'kk',  # 用户名\n",
    "          'password': '123456',  # 密码\n",
    "          'port': 3306,  # 端口，默认为3306\n",
    "          'database': 'rfm data',  # 数据库名称\n",
    "          'charset': 'gb2312'  # 字符编码\n",
    "          }"
   ]
  },
  {
   "cell_type": "code",
   "execution_count": 38,
   "metadata": {},
   "outputs": [
    {
     "name": "stdout",
     "output_type": "stream",
     "text": [
      "Begin to insert data into table sales_rfm_score...\n"
     ]
    },
    {
     "name": "stderr",
     "output_type": "stream",
     "text": [
      "C:\\Users\\kkluc\\Anaconda3\\Anaconda3 64bit\\lib\\site-packages\\ipykernel_launcher.py:30: Warning: (1265, \"Data truncated for column 'rfm_wscore' at row 1\")\n"
     ]
    },
    {
     "name": "stdout",
     "output_type": "stream",
     "text": [
      "Finish inserting, total records is: 59676\n"
     ]
    }
   ],
   "source": [
    "con = MySQLdb.connect(**config)  # 建立mysql连接\n",
    "cursor = con.cursor()  # 获得游标\n",
    "# 查找数据库是否存在目标表，如果没有则新建\n",
    "cursor.execute(\"show tables\")  #\n",
    "table_object = cursor.fetchall()  # 通过fetchall方法获得所有数据\n",
    "table_list = []  # 创建库列表\n",
    "for t in table_object:  # 循环读出所有库\n",
    "    table_list.append(t[0])  # 每个每个库追加到列表\n",
    "if not table_name in table_list:  # 如果目标表没有创建\n",
    "    cursor.execute('''\n",
    "    CREATE TABLE %s (\n",
    "    userid               VARCHAR(20),\n",
    "    r_score               int(2),\n",
    "    f_score              int(2),\n",
    "    m_score              int(2),\n",
    "    rfm_wscore              DECIMAL(10,2),\n",
    "    rfm_comb              VARCHAR(10),\n",
    "    insert_date              VARCHAR(20)\n",
    "    )ENGINE=InnoDB DEFAULT CHARSET=gb2312\n",
    "    ''' % table_name)  # 创建新表\n",
    "# 将数据写入数据库\n",
    "user_id = rfm_pd.index  # 索引列\n",
    "rfm_wscore = rfm_pd['rfm_wscore']  # RFM加权得分列\n",
    "rfm_comb = rfm_pd['rfm_comb']  # RFM组合得分列\n",
    "timestamp = time.strftime('%Y-%m-%d', time.localtime(time.time()))  # 写库日期\n",
    "print ('Begin to insert data into table {0}...'.format(table_name))  # 输出开始写库的提示信息\n",
    "for i in range(rfm_pd.shape[0]):  # 设置循环次数并依次循环\n",
    "    insert_sql = \"INSERT INTO `%s` VALUES ('%s',%s,%s,%s,%s,'%s','%s')\" % \\\n",
    "                 (table_name, user_id[i], r_score.iloc[i], f_score.iloc[i], m_score.iloc[i], rfm_wscore.iloc[i],\n",
    "                  rfm_comb.iloc[i], timestamp)  # 写库SQL依据\n",
    "    cursor.execute(insert_sql)  # 执行SQL语句，execute函数里面要用双引号\n",
    "    con.commit()  # 提交命令\n",
    "cursor.close()  # 关闭游标\n",
    "con.close()  # 关闭数据库连接\n",
    "print ('Finish inserting, total records is: %d' % (i + 1))  # 打印写库结果"
   ]
  },
  {
   "cell_type": "code",
   "execution_count": null,
   "metadata": {},
   "outputs": [],
   "source": []
  }
 ],
 "metadata": {
  "kernelspec": {
   "display_name": "Python 3",
   "language": "python",
   "name": "python3"
  },
  "language_info": {
   "codemirror_mode": {
    "name": "ipython",
    "version": 3
   },
   "file_extension": ".py",
   "mimetype": "text/x-python",
   "name": "python",
   "nbconvert_exporter": "python",
   "pygments_lexer": "ipython3",
   "version": "3.6.5"
  }
 },
 "nbformat": 4,
 "nbformat_minor": 2
}
